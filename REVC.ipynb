{
 "cells": [
  {
   "cell_type": "code",
   "execution_count": 43,
   "metadata": {
    "collapsed": false
   },
   "outputs": [
    {
     "name": "stdout",
     "output_type": "stream",
     "text": [
      "ACTACGTTAGCGCTAGCGCCACCTTTCTTGTTGCGTGTAAAGGCCGACGATTATCAGCCCGTGTTGGTCGACAACGCCCTCCTCGTCTATCACACATCCCCAAGCCCTTCAAAGCCTATATAGTAAATTGCCCGATCCGCCTTAGCCGATCACCCCCCTGCTACTGCGGGGCCAGTACCTGGGTCAACGATTTTTGCTCAAAGTCCGCGCGGTGGTCGCTCCTTACGCTCGTACCTGTCGTAGCTCCGTGGGATGGGTCCCAAGCCTGGCTGTTGTTACGCGCGATGGGCCATGGCACTGCGGGCTATGCGCCCCACGCTGGACTTATTCATTCTATTTCCCACGGCTTCGAATGCCTGGCAGCCAATGTGCCGGACAGGCAGCGAAGTGTGAGCTGTATGGACCCGGCATAGTCCCACGCGAGTCCGGCCTAGTCCGCCAACAAACCCACTACGTTTTATAAATGCAGGCCTGAACACGCACAAAAGTTTCGGAAGAGACAAGATTTATGATTCCTCTCGTGGTGGAGACCCATCATCAAAGTTAATGCCAAAAGCCAAAGAGTACGATACGGTAAGCGCATTTCGAAATGGTCTTCCGTTGAGTAGAGCGCCAATCGCAAAGACGGCGTCCAGAGGTCCCTACTATGGGACTATTTGCCCTATTGGCCCGCGGTAATACCTTGTAAGTTGGGTGAAATCCAAATCGGGACACGGGAGGATACATCTGGAGCCTGCGGTAATTGCCGTGGCAATAGGCGATCCATTTGACTTTAGAGAATCTCGGGAATTCATATCTTGTAAGTGAGCTGCAAAGTGGATGAAAGGATCGGCATGAAATTGATCTACGGGCT\n"
     ]
    }
   ],
   "source": [
    "def reverse(s):  \n",
    "    s=s[::-1] \n",
    "    return(s) \n",
    "\n",
    "def complement(nucleotide): \n",
    "    complement_bases = {'A': 'T', 'C': 'G', 'G': 'C', 'T': 'A'}  \n",
    "    nucleotide = \"\".join([complement_bases[x] for x in nucleotide])\n",
    "    return(nucleotide) \n",
    "\n",
    "def reversecomplement(s): \n",
    "    s = reverse(s) \n",
    "    s = complement(s) \n",
    "    return s \n",
    "\n",
    "sequence = open('rosalind_revc.txt')\n",
    "for line in sequence:\n",
    "    line=line.strip()\n",
    "    reverse(line)\n",
    "    complement(line)\n",
    "    reversecomplement(line)\n",
    "\n",
    "print(reversecomplement(line))   "
   ]
  },
  {
   "cell_type": "code",
   "execution_count": null,
   "metadata": {
    "collapsed": true
   },
   "outputs": [],
   "source": []
  }
 ],
 "metadata": {
  "kernelspec": {
   "display_name": "Python 3",
   "language": "python",
   "name": "python3"
  },
  "language_info": {
   "codemirror_mode": {
    "name": "ipython",
    "version": 3
   },
   "file_extension": ".py",
   "mimetype": "text/x-python",
   "name": "python",
   "nbconvert_exporter": "python",
   "pygments_lexer": "ipython3",
   "version": "3.5.1"
  }
 },
 "nbformat": 4,
 "nbformat_minor": 0
}
