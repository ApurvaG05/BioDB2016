{
 "cells": [
  {
   "cell_type": "code",
   "execution_count": 5,
   "metadata": {
    "collapsed": false
   },
   "outputs": [
    {
     "data": {
      "text/plain": [
       "44"
      ]
     },
     "execution_count": 5,
     "metadata": {},
     "output_type": "execute_result"
    }
   ],
   "source": [
    "seq_1 = \"ATCTATATATATTACTACACATACTATCACCTACTACACTACTCAGACGCCGGCAGCAGTACA\"\n",
    "seq_2 = \"ATTCTATCGGTCGTAGTCGATCGTGTACGTAGCTTACTCTGACGAGCCCCCGGGAAGATTTTG\"\n",
    "def hamming(str1, str2):        \n",
    "        diff = 0\n",
    "        for char1, char2 in zip(str1, str2):\n",
    "                if char1 != char2:\n",
    "                        diff += 1\n",
    "        return diff\n",
    "    \n",
    "hamming(seq_1, seq_2)"
   ]
  }
 ],
 "metadata": {
  "kernelspec": {
   "display_name": "Python 3",
   "language": "python",
   "name": "python3"
  }
 },
 "nbformat": 4,
 "nbformat_minor": 0
}
