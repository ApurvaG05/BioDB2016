{
 "cells": [
  {
   "cell_type": "code",
   "execution_count": 3,
   "metadata": {
    "collapsed": false
   },
   "outputs": [
    {
     "name": "stdout",
     "output_type": "stream",
     "text": [
      "150274.5\n"
     ]
    }
   ],
   "source": [
    "f = open('rosalind_iev.txt')\n",
    "lines = f.read()\n",
    "f.close()\n",
    "\n",
    "couples = lines.split()\n",
    "\n",
    "offspring = int(couples[0])*2 + int(couples[1])*2 + int(couples[2])*2 + int(couples[3])*(3/2.0) + int(couples[4])\n",
    "\n",
    "print(offspring)"
   ]
  }
 ],
 "metadata": {
  "kernelspec": {
   "display_name": "Python 3",
   "language": "python",
   "name": "python3"
  },
  "language_info": {
   "codemirror_mode": {
    "name": "ipython",
    "version": 3
   },
   "file_extension": ".py",
   "mimetype": "text/x-python",
   "name": "python",
   "nbconvert_exporter": "python",
   "pygments_lexer": "ipython3",
   "version": "3.5.1"
  }
 },
 "nbformat": 4,
 "nbformat_minor": 0
}
