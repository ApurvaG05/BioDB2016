{
 "cells": [
  {
   "cell_type": "code",
   "execution_count": null,
   "metadata": {
    "collapsed": false
   },
   "outputs": [],
   "source": [
    "filename = input('Enter the filename:')\n",
    "s=open(filename).readlines()\n",
    "\n",
    "def fib (n,k):\n",
    "    pairs=[1,1];\n",
    "    for i in range(2,n):\n",
    "        pairs.append(pairs[i-1]+k*pairs[i-2])\n",
    "    return pairs[-1]\n",
    "\n",
    "print(fib(36,2))"
   ]
  }
 ],
 "metadata": {
  "kernelspec": {
   "display_name": "Python 3",
   "language": "python",
   "name": "python3"
  },
  "language_info": {
   "codemirror_mode": {
    "name": "ipython",
    "version": 3
   },
   "file_extension": ".py",
   "mimetype": "text/x-python",
   "name": "python",
   "nbconvert_exporter": "python",
   "pygments_lexer": "ipython3",
   "version": "3.5.1"
  }
 },
 "nbformat": 4,
 "nbformat_minor": 0
}
