{
 "cells": [
  {
   "cell_type": "code",
   "execution_count": 2,
   "metadata": {
    "collapsed": false
   },
   "outputs": [
    {
     "name": "stdout",
     "output_type": "stream",
     "text": [
      "[1, 1, 2, 3, 5, 8, 13, 21, 34, 55, 89, 144, 233, 377, 610, 987, 1597, 2584, 4181, 6764, 10944, 17707, 28649, 46353, 74997, 121342, 196326, 317647, 513939, 831531, 1345381, 2176768, 3521916, 5698307, 9219613, 14916933, 24134949, 39049298, 63180066, 102222600, 165391722, 267596615, 432959688, 700509950, 1133394641, 1833783249, 2966981564, 4800447166, 7766914791, 12566530426, 20332099836, 32896453494, 53225031414, 86115786601, 139331598402, 225432468070, 364739931523, 590133350295, 954810101752, 1544841229447, 2499485939477, 4044059572309, 6543112552098, 10586471614457, 17128450771914, 27713088603122, 44838572393472, 72546860549428, 117377666028109, 189911960047111, 307269293975384, 497148357569001, 804364426512971, 1301426668295371, 2105651763209940, 3406852999037241, 5512140022315658, 8918402888002604, 14429588100216510, 23346446146989667, 37773534761266700, 61115936848684058, 98882928497398660, 159988278874468261, 258854078921095007, 418814644706960146]\n"
     ]
    }
   ],
   "source": [
    "generations = [1, 1] \n",
    "def fib(i, j):\n",
    "    count = 2\n",
    "    while (count < i):\n",
    "        if (count < j):\n",
    "            generations.append(generations[-2] + generations[-1]) #simply fib seq Fn = Fn-2 + Fn-1\n",
    "        elif (count == j or count == j+1):\n",
    "            generations.append((generations[-2] + generations[-1]) - 1)#Fn = Fn-2 + Fn-1 - 1\n",
    "        else:\n",
    "            generations.append((generations[-2] + generations[-1]) - (generations[-(j+1)])) #Fn-2 + Fn-1 - Fn-(j+1)\n",
    "        count += 1\n",
    "    return (generations[-1])\n",
    "\n",
    "\n",
    "fib(86,19)\n",
    "print (str(generations))"
   ]
  }
 ],
 "metadata": {
  "kernelspec": {
   "display_name": "Python 3",
   "language": "python",
   "name": "python3"
  },
  "language_info": {
   "codemirror_mode": {
    "name": "ipython",
    "version": 3
   },
   "file_extension": ".py",
   "mimetype": "text/x-python",
   "name": "python",
   "nbconvert_exporter": "python",
   "pygments_lexer": "ipython3",
   "version": "3.5.1"
  }
 },
 "nbformat": 4,
 "nbformat_minor": 0
}
