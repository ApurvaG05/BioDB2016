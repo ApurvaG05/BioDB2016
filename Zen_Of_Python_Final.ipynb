{
 "cells": [
  {
   "cell_type": "markdown",
   "metadata": {},
   "source": [
    " # There should be one -- and preferably only one -- obvious way to do it.\n",
    " "
   ]
  },
  {
   "cell_type": "markdown",
   "metadata": {},
   "source": [
    "**1.)** There should be one module for every need."
   ]
  },
  {
   "cell_type": "markdown",
   "metadata": {},
   "source": [
    " **2.)** Compared to languages like Perl, Python has a limited number of control constructs:\n",
    "  - only **if** and no **unless**,\n",
    "  - only **for** that iterates over sequences and no **foreach** or C-style for,\n",
    "  - only **while** that checks a condition every loop and no **do-while**,\n",
    "  - only **if-elif** and no **switch**\n",
    "  - there's **nearly one way** to indent your source; most cases of creative indentation are syntactically excluded."
   ]
  },
  {
   "cell_type": "markdown",
   "metadata": {},
   "source": [
    "**3.)** EXAMPLES :"
   ]
  },
  {
   "cell_type": "markdown",
   "metadata": {},
   "source": [
    "In C there are many possible ways to increase the value of a variable by one:"
   ]
  },
  {
   "cell_type": "markdown",
   "metadata": {},
   "source": [
    "    - i++     #Post-increment, returns the number before the increment\n",
    "    - ++i     #Pre-increment, returns the number after the increment\n",
    "    - i += 1 \n",
    "              #Each ends up increasing the value of i by 1, but each is slightly different.\n",
    "\n",
    "In Python, there's really only one way; just add one.\n",
    "\n",
    "i += 1"
   ]
  },
  {
   "cell_type": "markdown",
   "metadata": {},
   "source": [
    "#### Another possibility might be list comprehensions. In Python, you *could* do this:\n",
    "``` python\n",
    "new_list = []\n",
    "    for item in list_of_items:\n",
    "       if item < 10:\n",
    "           new_list.append(item)\n",
    "```"
   ]
  },
  {
   "cell_type": "markdown",
   "metadata": {},
   "source": [
    " #### But the *\"obvious\"* way (if you're Dutch or are more familiar with Python) of doing this would be with a list comprehension:\n",
    "``` python\n",
    "new_list = [item for item in list_of_items if item < 10]\n",
    "```"
   ]
  },
  {
   "cell_type": "markdown",
   "metadata": {},
   "source": [
    "**4.)** ADVANTAGES : \n",
    "    - few possibilities for different representations\n",
    "    - easy to maintain and efficient readability \n",
    "    - easier for humans\n",
    "    "
   ]
  },
  {
   "cell_type": "markdown",
   "metadata": {
    "collapsed": true
   },
   "source": [
    "# Although that way may not be obvious at first unless you're Dutch."
   ]
  },
  {
   "cell_type": "markdown",
   "metadata": {},
   "source": [
    "The quote has been used to point the antithesis between\n",
    "## Python ---There’s only one way to do it\n",
    "## Perl ------ There's more than one way to do it"
   ]
  },
  {
   "cell_type": "markdown",
   "metadata": {},
   "source": [
    "Guido van Rossum, who is one of the Python's creators, who is dutch ,has always strived to keep the language consistent, balancing between pragmatism and minimalism."
   ]
  },
  {
   "cell_type": "markdown",
   "metadata": {},
   "source": [
    "So the only way to do it is obvious to the Dutch, since it's obvious to Guido. "
   ]
  },
  {
   "cell_type": "markdown",
   "metadata": {},
   "source": [
    "Or, in other words, \"obvious\" is in part a learned, cultural judgment. There's really nothing universally obvious about any computer language. Nevertheless, most of Python is obvious to the Dutch. Others sometimes have to work a bit at learning the one obvious way in Python."
   ]
  },
  {
   "cell_type": "markdown",
   "metadata": {},
   "source": [
    "The sentence is Tim Peter's way to suggest that people should not lobby for their favourite features, borrowing them from other languages, when Python already has its way to accomplish the same results."
   ]
  }
 ],
 "metadata": {
  "kernelspec": {
   "display_name": "Python 3",
   "language": "python",
   "name": "python3"
  },
  "language_info": {
   "codemirror_mode": {
    "name": "ipython",
    "version": 3
   },
   "file_extension": ".py",
   "mimetype": "text/x-python",
   "name": "python",
   "nbconvert_exporter": "python",
   "pygments_lexer": "ipython3",
   "version": "3.5.1"
  }
 },
 "nbformat": 4,
 "nbformat_minor": 0
}
