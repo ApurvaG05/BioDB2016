{
 "cells": [
  {
   "cell_type": "code",
   "execution_count": 13,
   "metadata": {
    "collapsed": false
   },
   "outputs": [
    {
     "data": {
      "text/plain": [
       "0.7394778481012657"
      ]
     },
     "execution_count": 13,
     "metadata": {},
     "output_type": "execute_result"
    }
   ],
   "source": [
    "def  iprb(k,m,n):\n",
    "    p = 0 \n",
    "    total = k+m+n\n",
    "    t1 = total-1\n",
    "    \n",
    "    domi = k/total # AA x any other \n",
    "    hete_domi= m/total * (k/t1)  \n",
    "    hete = m/total*(0.75*((m-1)/t1)) \n",
    "    hete_rece = m/total*(0.5*(n/t1)) \n",
    "    rece_domi = n/total *  (k/t1) \n",
    "    rece_homo = n/total * (0.5*(m/t1)) \n",
    "\n",
    "    p = domi + hete_domi + hete + hete_rece + rece_domi + rece_homo\n",
    "    \n",
    "    return p\n",
    "iprb(26,26,28)"
   ]
  }
 ],
 "metadata": {
  "kernelspec": {
   "display_name": "Python 3",
   "language": "python",
   "name": "python3"
  },
  "language_info": {
   "codemirror_mode": {
    "name": "ipython",
    "version": 3
   },
   "file_extension": ".py",
   "mimetype": "text/x-python",
   "name": "python",
   "nbconvert_exporter": "python",
   "pygments_lexer": "ipython3",
   "version": "3.5.1"
  }
 },
 "nbformat": 4,
 "nbformat_minor": 0
}
