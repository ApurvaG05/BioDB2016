{
 "cells": [
  {
   "cell_type": "code",
   "execution_count": 1,
   "metadata": {
    "collapsed": false
   },
   "outputs": [
    {
     "name": "stdout",
     "output_type": "stream",
     "text": [
      "226 235 236 239\n"
     ]
    }
   ],
   "source": [
    "sequence = open('rosalind_ini.txt')\n",
    "lines = sequence.readlines()\n",
    "\n",
    "def getdata(sequence):\n",
    "    for line in lines:\n",
    "        line=line.strip()\n",
    "        a_count = line.count(\"A\")\n",
    "        t_count = line.count(\"T\")\n",
    "        g_count = line.count(\"G\")\n",
    "        c_count = line.count(\"C\")\n",
    "        print(a_count, c_count, g_count, t_count)\n",
    "\n",
    "getdata(sequence)"
   ]
  }
 ],
 "metadata": {
  "kernelspec": {
   "display_name": "Python 3",
   "language": "python",
   "name": "python3"
  },
  "language_info": {
   "codemirror_mode": {
    "name": "ipython",
    "version": 3
   },
   "file_extension": ".py",
   "mimetype": "text/x-python",
   "name": "python",
   "nbconvert_exporter": "python",
   "pygments_lexer": "ipython3",
   "version": "3.5.1"
  }
 },
 "nbformat": 4,
 "nbformat_minor": 0
}
