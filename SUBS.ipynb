{
 "cells": [
  {
   "cell_type": "code",
   "execution_count": 1,
   "metadata": {
    "collapsed": false
   },
   "outputs": [
    {
     "name": "stdout",
     "output_type": "stream",
     "text": [
      "55 62 80 87 126 209 234 289 296 304 337 360 376 442 469 477 558 565 607 614 665 678 714 731 739 760 791 817 837 871 891 899 927 934 941\n"
     ]
    }
   ],
   "source": [
    "with open('rosalind_subs.txt') as input_data:\n",
    "    s,t = input_data.readlines()\n",
    "    s = s.rstrip()\n",
    "    t = t.rstrip()\n",
    "\n",
    "locations = []\n",
    "for i in range(0, len(s)-len(t)+1):\n",
    "    if s[i:i+len(t)] == t:\n",
    "        locations.append(str(i+1))\n",
    "\n",
    "print (' '.join(locations))"
   ]
  }
 ],
 "metadata": {
  "kernelspec": {
   "display_name": "Python 3",
   "language": "python",
   "name": "python3"
  },
  "language_info": {
   "codemirror_mode": {
    "name": "ipython",
    "version": 3
   },
   "file_extension": ".py",
   "mimetype": "text/x-python",
   "name": "python",
   "nbconvert_exporter": "python",
   "pygments_lexer": "ipython3",
   "version": "3.5.1"
  }
 },
 "nbformat": 4,
 "nbformat_minor": 0
}
