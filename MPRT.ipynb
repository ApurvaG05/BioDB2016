{
 "cells": [
  {
   "cell_type": "code",
   "execution_count": 2,
   "metadata": {
    "collapsed": false
   },
   "outputs": [
    {
     "name": "stdout",
     "output_type": "stream",
     "text": [
      "P01042_KNH_HUMAN\n",
      "48 169 205 294\n",
      "P01106_MYC_HUMAN\n",
      "4 112 200\n",
      "Q2GBA3\n",
      "155\n",
      "O82484\n",
      "104 108 546 742 765\n",
      "P02974_FMM1_NEIGO\n",
      "67 68 121\n",
      "P03395_ENV_MLVFR\n",
      "12 168 302 334 341 374 410\n",
      "P25174\n",
      "17 32 56 97 116 132 151 178 183 198 325 670\n"
     ]
    }
   ],
   "source": [
    "import re\n",
    "import requests\n",
    "from Bio import SeqIO\n",
    "from io import StringIO\n",
    "\n",
    "\n",
    "motif = re.compile('(?=N[^P][ST][^P])')\n",
    "\n",
    "fid = open('rosalind_mprt.txt','r')\n",
    "accs = fid.read().strip().split('\\n')\n",
    "fid.close()\n",
    "\n",
    "\n",
    "for acc in accs:\n",
    "    r = requests.get('http://www.uniprot.org/uniprot/%s.fasta' % acc)\n",
    "    raw_data = SeqIO.read(StringIO(r.text), 'fasta')\n",
    "    locations = []\n",
    "    \n",
    "    # Use search instead of match to search entire string\n",
    "    if re.search(motif, str(raw_data.seq)):\n",
    "        print(acc.strip())\n",
    "        for m in re.finditer(motif, str(raw_data.seq)):\n",
    "            locations.append(m.start()+1)\n",
    "        print(\" \".join(map(str, locations)))"
   ]
  }
 ],
 "metadata": {
  "kernelspec": {
   "display_name": "Python 3",
   "language": "python",
   "name": "python3"
  },
  "language_info": {
   "codemirror_mode": {
    "name": "ipython",
    "version": 3
   },
   "file_extension": ".py",
   "mimetype": "text/x-python",
   "name": "python",
   "nbconvert_exporter": "python",
   "pygments_lexer": "ipython3",
   "version": "3.5.1"
  }
 },
 "nbformat": 4,
 "nbformat_minor": 0
}
