{
 "cells": [
  {
   "cell_type": "code",
   "execution_count": 2,
   "metadata": {
    "collapsed": false
   },
   "outputs": [
    {
     "name": "stdout",
     "output_type": "stream",
     "text": [
      "CTP salvage\n",
      "UMP salvage\n"
     ]
    }
   ],
   "source": [
    "from urllib.request import urlopen\n",
    "import re\n",
    "\n",
    "file=open(\"rosalind_dbpr_2.txt\")\n",
    "\n",
    "gene_name = file.read().strip()\n",
    "output = urlopen('http://www.uniprot.org/uniprot/' + gene_name + '.txt').read()\n",
    "data = output.decode('utf-8')\n",
    "\n",
    "for line in re.finditer(\"P:([a-zA-Z\\W ]*)\", data):\n",
    "    for element in line.groups():\n",
    "        element =element.split(\";\")\n",
    "        print(element[0])"
   ]
  }
 ],
 "metadata": {
  "kernelspec": {
   "display_name": "Python 3",
   "language": "python",
   "name": "python3"
  },
  "language_info": {
   "codemirror_mode": {
    "name": "ipython",
    "version": 3
   },
   "file_extension": ".py",
   "mimetype": "text/x-python",
   "name": "python",
   "nbconvert_exporter": "python",
   "pygments_lexer": "ipython3",
   "version": "3.5.1"
  }
 },
 "nbformat": 4,
 "nbformat_minor": 0
}
