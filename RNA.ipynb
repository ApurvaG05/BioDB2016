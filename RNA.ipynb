{
 "cells": [
  {
   "cell_type": "code",
   "execution_count": 20,
   "metadata": {
    "collapsed": false
   },
   "outputs": [
    {
     "name": "stdout",
     "output_type": "stream",
     "text": [
      "GUGUCAACUCCUGAUUUAUAAACGGCAUGGGCCGGACCAUGUGGACUUCCGGGAACCCAGUAAGCACCUGGAAAGCUCAAGUCGAAAAUGCUGCGCAUUGUAACCUUUGAAGGAUCGUGCAGGGCUGUUAGCGUAUCAGUUCACACCGCUACUUGCUCCAAUUUUCCAGUACCGCCACGACUUACUACGUUCACCCCACGCAUUUUCCAUCAUGACCUCCACACGUUUAAAAACAAGCAUUCAUCCAUGACAGUACAGCCAUCGCACAGCAGCUUUACGUUAAACCGUGGGAAUAUGGAAGCAAUCCUCCUCUCUCUCCAACAGGCCCGGCUGAACCUUAAUCGAAGGCGUUCGGACUAGGCUCACCUUGCGUCUUCGUUGCCGAGGUGCGGAUGGGGAGUAAAACAGACGCGACAAGUAUAAAAUGUCAGGGAACUUACCAUUAACUGUUCCGGCUAUAUAAGCGCUGGUGGCAUUUAGCGCACGCUUUUAGAUGACCUCGGCGGGUGUGACAGUUUGAUGUAUGUCGGAAACAUUCACCCGCAUCCAAAUACUUGCGGCCUUGGUUUAUUAGGACAUACUUCCAAGUACUUAAAAUGGAGGUCAUCGGUGGAGGGUGCUAUAUACCCUCUCGGCAGUUGUAUCGCUGUGGCCUGCGGCACUGUUCUGUUUCGGGAAAACAGGACAACGACACUAGGUAUCCGAUUUGAGGCGCGCUACACCCGUAAGCGAUUACGGAUGGUAGGAAGCAGUUUAAAGAAGCCACAUCCCUUGCUCGUGCCGGGGGUUGACAAUUGACGGUGGGGCCAAAGGAUAAAGGCAUAGGCUACACAUGGCACUGGGUAAAGAGCCAACGUUCUCAUGCUCCUGUCGCAUAUCUCGCUGGUUUGUAGAAAACGAAGCCGGGUCUCAGACUAGACGGUUCUGAGUACGUG\n"
     ]
    }
   ],
   "source": [
    "#seq = \"GATGGAACTTGACTACGTAAATT\"\n",
    "\n",
    "def transcribe(dna): \n",
    "    for line in dna:\n",
    "        line=line.strip()\n",
    "        return line.replace('T', 'U') \n",
    "\n",
    "sequence = open('rosalind_rna.txt')\n",
    "lines = sequence.readlines()\n",
    "\n",
    "print(transcribe(lines))"
   ]
  },
  {
   "cell_type": "code",
   "execution_count": null,
   "metadata": {
    "collapsed": true
   },
   "outputs": [],
   "source": []
  }
 ],
 "metadata": {
  "kernelspec": {
   "display_name": "Python 3",
   "language": "python",
   "name": "python3"
  },
  "language_info": {
   "codemirror_mode": {
    "name": "ipython",
    "version": 3
   },
   "file_extension": ".py",
   "mimetype": "text/x-python",
   "name": "python",
   "nbconvert_exporter": "python",
   "pygments_lexer": "ipython3",
   "version": "3.5.1"
  }
 },
 "nbformat": 4,
 "nbformat_minor": 0
}
